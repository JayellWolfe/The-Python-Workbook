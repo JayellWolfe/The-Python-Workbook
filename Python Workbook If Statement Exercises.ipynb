{
 "cells": [
  {
   "cell_type": "markdown",
   "metadata": {},
   "source": [
    "Exercise 34: Even or Odd? \n",
    "\n",
    "Write a program that reads an integer from the user. Then your program should display a message indicting whether the integer is even or odd. "
   ]
  },
  {
   "cell_type": "code",
   "execution_count": 4,
   "metadata": {},
   "outputs": [
    {
     "name": "stdout",
     "output_type": "stream",
     "text": [
      "Please enter a number4\n",
      "4 is an Even number\n"
     ]
    }
   ],
   "source": [
    "num = int(input('Please enter a number') )\n",
    "\n",
    "if (num % 2 == 0):\n",
    "    print('{0} is an Even number'.format(num))\n",
    "else:\n",
    "    print('{0} is an Odd number'.format(num)) "
   ]
  },
  {
   "cell_type": "markdown",
   "metadata": {},
   "source": [
    "Exercise 35: Dog Years\n",
    "\n",
    "Write a program that implements the conversion from human years to dog years (1 humn year = 7 dog years) Ensure that your program works correctly for conversions of less than two human years and for conversions of two or more human years. Your program should display an appropriate error message if the user enters a negative number "
   ]
  },
  {
   "cell_type": "code",
   "execution_count": null,
   "metadata": {},
   "outputs": [],
   "source": []
  },
  {
   "cell_type": "markdown",
   "metadata": {},
   "source": [
    "Exercise 36: Vowel or Cononant \n",
    "\n",
    "Write a program that reads a letter of the alphabet from the user. If the user enters a, e, i, o or u, then your program should display a message indicating that the entered letter is a vowel. If the user enters y then your program should display a message indicating that sometimes y is a vowel. and sometimes y is a consonant. Otherwise your program should display a message indicating that the letter is a consonant"
   ]
  },
  {
   "cell_type": "code",
   "execution_count": 12,
   "metadata": {},
   "outputs": [
    {
     "name": "stdout",
     "output_type": "stream",
     "text": [
      "Please input a letter of the alphabet:y\n",
      "Sometimes it's a vowel...Sometimes it's a consonant.\n"
     ]
    }
   ],
   "source": [
    "letter = input('Please input a letter of the alphabet:')\n",
    "\n",
    "if letter == 'a' or letter == 'e' or \\\n",
    "   letter == 'i' or letter == 'o' or \\\n",
    "   letter == 'u':\n",
    "    print('The letter is a vowel!')\n",
    "elif letter == 'y':\n",
    "    print(\"Sometimes it's a vowel...Sometimes it's a consonant.\")\n",
    "else:\n",
    "    print(\"The letter is a consonant\")"
   ]
  },
  {
   "cell_type": "markdown",
   "metadata": {},
   "source": [
    "Exercise 37: Name that Shape(Solved—31 Lines)\n",
    "\n",
    "Write a program that determines the name of a shape from its number of sides. Read\n",
    "the number of sides from the user and then report the appropriate name as part of\n",
    "a meaningful message. Your program should support shapes with anywhere from 3\n",
    "up to (and including) 10 sides. If a number of sides outside of this range is entered\n",
    "then your program should display an appropriate error message."
   ]
  },
  {
   "cell_type": "code",
   "execution_count": 23,
   "metadata": {},
   "outputs": [
    {
     "name": "stdout",
     "output_type": "stream",
     "text": [
      "Please enter the number of sides:9\n",
      "That's a nonagon\n"
     ]
    }
   ],
   "source": [
    "num_sides = int(input('Please enter the number of sides:'))\n",
    "\n",
    "name = ''\n",
    "if num_sides == 3:\n",
    "    name = 'triangle'\n",
    "elif num_sides == 4:\n",
    "    name = 'quadrilateral'\n",
    "elif num_sides == 5:\n",
    "    name = 'pentagon'\n",
    "elif num_sides == 6:\n",
    "    name = 'hexagon'\n",
    "elif num_sides == 7:\n",
    "    name = 'heptagon'\n",
    "elif num_sides == 8:\n",
    "    name = 'octagon'\n",
    "elif num_sides == 9:\n",
    "    name = 'nonagon'\n",
    "elif num_sides == 10:\n",
    "    name = 'decagon'\n",
    "\n",
    "if name == \" \":\n",
    "    print(\"That number of sides is not supported by this program.\")\n",
    "else:\n",
    "    print(\"That's a\", name) "
   ]
  },
  {
   "cell_type": "markdown",
   "metadata": {},
   "source": [
    "Exercise 38: Month Name to Number of Days (Solved—18 Lines)\n",
    "\n",
    "The length of a month varies from 28 to 31 days. In this exercise you will create a program that reads the name of a month from the user as a string. Then your program should display the number of days in that month. Display “28 or 29 days” for February so that leap years are addressed."
   ]
  },
  {
   "cell_type": "code",
   "execution_count": 19,
   "metadata": {},
   "outputs": [
    {
     "name": "stdout",
     "output_type": "stream",
     "text": [
      "Please enter the name of a month:March\n",
      "March has 31 days in it.\n"
     ]
    }
   ],
   "source": [
    "month = input('Please enter the name of a month:')\n",
    "\n",
    "days = 31\n",
    "\n",
    "if month == 'April' or month == 'June' or\\\n",
    "   month == 'September' or month == 'November':\n",
    "    days = 30 \n",
    "elif month == 'February':\n",
    "    days = '28 or 29'\n",
    "\n",
    "print(month, 'has', days, 'days in it.')"
   ]
  },
  {
   "cell_type": "markdown",
   "metadata": {},
   "source": [
    "Exercise 39: Sound Levels: (solved 30 lines)\n",
    "\n",
    "The following table lists the sound level in decibels for several common noises: \n",
    "\n",
    "\n",
    "| Noise       | Decibel level(DB) |\n",
    "|-------------|-------------------|\n",
    "| jackhammer  | 130 |              \n",
    "| Gas lawnmower | 106 |\n",
    "| Alarm Clock | 70 |\n",
    "| Quiet Room | 40 |\n",
    "\n",
    "Write a program that reads a sound level in decibels from the user. If the user enters a decibel level that matches one of the noiess in the table then your program should display a message containing only that noise. If the user enters a number of decibels between the noises listed then your program should display a message indicating which noises the level is between. Ensure that your program also generates\n",
    "reasonable output for a value smaller than the quietest noise in the table, and for a value larger than the loudest noise in the table."
   ]
  },
  {
   "cell_type": "code",
   "execution_count": null,
   "metadata": {},
   "outputs": [],
   "source": []
  },
  {
   "cell_type": "markdown",
   "metadata": {},
   "source": [
    "Exercise 40: Name that Triangle(Solved—20 Lines)\n",
    "\n",
    "A triangle can be classified based on the lengths of its sides as equilateral, isosceles or scalene. All 3 sides of an equilateral triangle have the same length. An isosceles triangle has two sides that are the same length, and a third side that is a different length. If all of the sides have different lengths then the triangle is scalene. Write a program that reads the lengths of 3 sides of a triangle from the user. Display a message indicating the type of the triangle."
   ]
  },
  {
   "cell_type": "code",
   "execution_count": null,
   "metadata": {},
   "outputs": [],
   "source": []
  },
  {
   "cell_type": "markdown",
   "metadata": {},
   "source": [
    "Exercise 41: Note To Frequency (Solved—39 Lines)\n",
    "    \n",
    "The following table lists an octave of music notes, beginning with middle C, along\n",
    "with their frequencies.\n",
    "\n",
    "| Note | Frequency (Hz) |\n",
    "|-------|---------------|\n",
    "| C4 | 261.63 |\n",
    "| D4 | 293.66 |\n",
    "| E4 | 329.63 |\n",
    "| F4 | 349.23 |\n",
    "| G4 | 392.00 |\n",
    "| A4 | 440.00 |\n",
    "| B4 | 493.88 |\n",
    "\n",
    "Begin by writing a program that reads the name of a note from the user and displays the note’s frequency. Your program should support all of the notes listed previously. Once you have your program working correctly for the notes listed previously you should add support for all of the notes from C0 to C8. While this could be done by adding many additional cases to your if statement, such a solution is cumbersome, inelegant and unacceptable for the purposes of this exercise. Instead, you should\n",
    "exploit the relationship between notes in adjacent octaves. In particular, the frequency of any note in octave n is half the frequency of the corresponding note in octave n+1. By using this relationship, you should be able to add support for the additional notes without adding additional cases to your if statement. Hint: To complete this exercise you will need to extract individual characters from the two-character note name so that you can work with the letter and the octave number separately. Once you have separated the parts, compute the frequency of the note in the fourth octave using the data in the table above. Then divide the frequency by 24−x , where x is the octave number entered by the user. This will halve or double the frequency the correct number of times."
   ]
  },
  {
   "cell_type": "code",
   "execution_count": null,
   "metadata": {},
   "outputs": [],
   "source": []
  },
  {
   "cell_type": "markdown",
   "metadata": {},
   "source": [
    "Exercise 42: Frequency To Note (Solved—40 Lines)\n",
    " \n",
    "In the previous question you converted from note name to frequency. In this question you will write a program that reverses that process. Begin by reading a frequency from the user. If the frequency is within one Hertz of a value listed in the table in the previous question then report the name of the note. Otherwise report that the frequency does not correspond to a known note. In this exercise you only need to consider the notes listed in the table. There is no need to consider notes from other\n",
    "octaves."
   ]
  },
  {
   "cell_type": "code",
   "execution_count": null,
   "metadata": {},
   "outputs": [],
   "source": []
  },
  {
   "cell_type": "markdown",
   "metadata": {},
   "source": [
    "Exercise 43: Faces on Money(31 Lines)\n",
    "\n",
    "It is common for images of a country’s previous leaders, or other individuals of historical significance, to appear on its money. The individuals that appear on banknotes in the United States are listed in Table 2.1. Write a program that begins by reading the denomination of a banknote from the\n",
    "user. Then your program should display the name of the individual that appears on the banknote of the entered amount. An appropriate error message should be displayed if no such note exists. While two dollar banknotes are rarely seen in circulation in the United States, they are legal tender that can be spent just like any other denomination. The United States has also issued banknotes in denominations of $500, $1,000, $5,000, and $10,000 for public use. However, high denomination banknotes have not been printed since 1945 and were officially discontinued in 1969. As a result, we will not consider them in this exercise.\n",
    "\n",
    "| Individual | Amount |\n",
    "| -----------|---------|\n",
    "| George Washington | 1.00 |\n",
    "| Thomas Jefferson | 2.00 |\n",
    "| Abraham Lincoln | 5.00 | \n",
    "| Alexander Hamilton | 10.00 |\n",
    "|Andrew Jackson | 20.00 |\n",
    "| Ulysses S. Grant | 50.00 |\n",
    "| Benjamin Franklin | 100.00 |"
   ]
  },
  {
   "cell_type": "code",
   "execution_count": null,
   "metadata": {},
   "outputs": [],
   "source": []
  },
  {
   "cell_type": "markdown",
   "metadata": {},
   "source": [
    "Exercise 44: Date to Holiday Name (18 Lines)\n",
    "\n",
    "Canada has three national holidays which fall on the same dates each year. Write a program that reads a month and day from the user. If the month and day match one of the holidays listed previously then your program should display the holiday’s name. Otherwise your program should indicate that the entered month and day do not correspond to a fixed-date holiday. Canada has two additional national holidays, Good Friday and Labour Day, whose dates vary from year to year. There are also numerous provincial and\n",
    "territorial holidays, some of which have fixed dates, and some of which have variable dates. We will not consider any of these additional holidays in this exercise.\n",
    "\n",
    "|Holiday | Date |\n",
    "|--------|------|\n",
    "| New Year's Day | January 1 |\n",
    "| Canada Day | July 1 |\n",
    "|Christmas Day | Decemeber 25 |"
   ]
  },
  {
   "cell_type": "code",
   "execution_count": null,
   "metadata": {},
   "outputs": [],
   "source": []
  },
  {
   "attachments": {
    "image.png": {
     "image/png": "[encoded data removed]"
    }
   },
   "cell_type": "markdown",
   "metadata": {},
   "source": [
    "Exercise 45:What Color is that Square? (22 Lines)\n",
    "\n",
    "Positions on a chess board are identified by a letter and a number. The letter identifies the column, while the number identifies the row, as shown below:\n",
    "\n",
    "![image.png](attachment:image.png)\n",
    "\n",
    "Write a program that reads a position from the user. Use an if statement to determine if the column begins with a black square or a white square. Then use modular arithmetic to report the color of the square in that row. For example, if the user enters a1 then your program should report that the square is black. If the user enters d5 then your program should report that the square is white. Your program may assume that a valid position will always be entered. It does not need to perform any error\n",
    "checking."
   ]
  },
  {
   "cell_type": "code",
   "execution_count": null,
   "metadata": {},
   "outputs": [],
   "source": []
  },
  {
   "cell_type": "markdown",
   "metadata": {},
   "source": [
    "Exercise 46: Season from Month and Day (Solved—40 Lines)\n",
    "\n",
    "The year is divided into four seasons: spring, summer, fall and winter. While the exact dates that the seasons change vary a little bit from year to year because of the way that the calendar is constructed, we will use the following dates for this exercise:\n",
    "\n",
    "| Season | First Day |\n",
    "|--------|----------|\n",
    "| Spring | March 20 |\n",
    "| Summer | June 21 |\n",
    "| Fall | September 22 |\n",
    "| Winter | December 21 |\n",
    "\n",
    "Create a program that reads a month and day from the user. The user will enter the name of the month as a string, followed by the day within the month as an integer. Then your program should display the season associated with the date that was entered."
   ]
  },
  {
   "cell_type": "code",
   "execution_count": null,
   "metadata": {},
   "outputs": [],
   "source": []
  },
  {
   "cell_type": "markdown",
   "metadata": {},
   "source": [
    "Exercise 47: Birth Date to Astrological Sign (47 Lines)\n",
    "\n",
    "The horoscopes commonly reported in newspapers use the position of the sun at the time of one’s birth to try and predict the future. This system of astrology divides the year into twelve zodiac signs, as outline in the table below:\n",
    "\n",
    "|Zodiac Sign | Date Range |\n",
    "|------------|-----------|\n",
    "| Capricorn | December 22 to January 19 |\n",
    "| Aquarius | January 20 to February 18 |\n",
    "| Pisces | February 19 to March 20 |\n",
    "| Aries | March 21 to April 19 |\n",
    "| Taurus | April 20 to May 20 |\n",
    "| Gemini | May 21 to June 20 |\n",
    "| Cancer | June 21 to July 20 |\n",
    "| Leo | July 23 to August 22 |\n",
    "| Virgo | Auguest 23 to September 22 |\n",
    "| Libra | September 23 to October 22 |\n",
    "| Scorpio | October 23 to November 21 |\n",
    "| Sagitarius | November 22 to December 21 | \n",
    "\n",
    "Write a program that asks the user to enter his or her month and day of birth. Then\n",
    "your program should report the user’s zodiac sign as part of an appropriate output\n",
    "message."
   ]
  },
  {
   "cell_type": "code",
   "execution_count": null,
   "metadata": {},
   "outputs": [],
   "source": []
  },
  {
   "cell_type": "markdown",
   "metadata": {},
   "source": [
    "Exercise 48: Chinese Zodiac (Solved—35 Lines)\n",
    "\n",
    "The Chinese zodiac assigns animals to years in a 12 year cycle. One 12 year cycle is shown in the table below. The pattern repeats from there, with 2012 being another year of the dragon, and 1999 being another year of the hare.\n",
    "\n",
    "| Year | Animal|\n",
    "|-------|------|\n",
    "| 2000 | Dragon|\n",
    "|2001|Snake|\n",
    "|2002|Horse|\n",
    "|2003|Sheep|\n",
    "|2004|Monkey|\n",
    "|2005|Rooster|\n",
    "|2006|Dog|\n",
    "|2007|Pig|\n",
    "|2008|Rat|\n",
    "|2009|Ox|\n",
    "|2010|Tiger|\n",
    "|2011|Hare|\n",
    "\n",
    "Write a program that reads a year from the user and displays the animal associated\n",
    "with that year. Your program should work correctly for any year greater than or equal\n",
    "to zero, not just the ones listed in the table"
   ]
  },
  {
   "cell_type": "code",
   "execution_count": null,
   "metadata": {},
   "outputs": [],
   "source": []
  },
  {
   "cell_type": "markdown",
   "metadata": {},
   "source": [
    "Exercise 49: Richter Scale (30 Lines)\n",
    "\n",
    "The following table contains earthquake magnitude ranges on the Richter scale and their descriptors:\n",
    "\n",
    "|Magnitude|Descriptor|\n",
    "|---------|---------|\n",
    "|Less than 2.0|Micro|\n",
    "|2.0 to less than 3.0| Very minor|\n",
    "|3.0 to less than 4.0|Minor|\n",
    "|4.0 to less than 5.0|Light|\n",
    "|5.0 to less than 6.0|Moderate|\n",
    "|6.0 to less than 7.0|Strong|\n",
    "|7.0 to less than 8.0|Major|\n",
    "|8.0 to less than 10.0|Great|\n",
    "|10.0 or more|Meteoric|\n",
    "\n",
    "Write a program that reads a magnitude from the user and displays the appropriate descriptor as part of a meaningful message. For example, if the user enters 5.5 then your program should indicate that a magnitude 5.5 earthquake is considered to be a moderate earthquake."
   ]
  },
  {
   "cell_type": "code",
   "execution_count": null,
   "metadata": {},
   "outputs": [],
   "source": []
  },
  {
   "cell_type": "markdown",
   "metadata": {},
   "source": [
    "Exercise 50: Roots of a Quadratic Function (24 Lines)\n",
    "\n",
    "A univariate quadratic function has the form f (x) = ax2 + bx + c, where a, b and c are constants, and a is non-zero. The roots of a quadratic function can be found by finding the values of x that satisfy the quadratic equation ax2 + bx + c = 0. A quadratic function may have 0, 1 or 2 real roots. These roots can be computed using the quadratic formula, shown below:\n",
    "root = −b ± √b2 − 4ac/2a\n",
    "\n",
    "The portion of the expression under the square root sign is called the discriminant. If the discriminant is negative then the quadratic equation does not have any real roots. If the discriminant is 0, then the equation has one real root. Otherwise the equation has two real roots, and the expression must be evaluated twice, once using a plus sign, and once using a minus sign, when computing the numerator. Write a program that computes the real roots of a quadratic function. Your program\n",
    "should begin by prompting the user for the values of a, b and c. Then it should display a message indicating the number of real roots, along with the values of the real roots (if any) "
   ]
  },
  {
   "cell_type": "code",
   "execution_count": null,
   "metadata": {},
   "outputs": [],
   "source": []
  },
  {
   "cell_type": "markdown",
   "metadata": {},
   "source": [
    "Exercise 51: Letter Grade to Grade Points (solved in 52 lines)\n",
    "\n",
    "At a particular univeristy, letter grades are mapped to grade points in the following manner:\n",
    "\n",
    "|Letter|Grade Points|\n",
    "|------|------------|\n",
    "|A+|4.0|\n",
    "|A|4.0|\n",
    "|A-|3.7|\n",
    "|B+|3.3|\n",
    "|B|3.0|\n",
    "|C+|2.3|\n",
    "|C|2.0|\n",
    "|C-|1.7|\n",
    "|D+|1.3|\n",
    "|D|1.0|\n",
    "|F|0|\n",
    "\n",
    "Write a program that begins by reading a letter grade from the user. Then your program should compute and display the equivalent number of grade points. Ensure that your program generates an appropriate error message if the user enters an invalid letter grade. "
   ]
  },
  {
   "cell_type": "code",
   "execution_count": null,
   "metadata": {},
   "outputs": [],
   "source": []
  },
  {
   "cell_type": "markdown",
   "metadata": {},
   "source": [
    "Exercise 52: Grade Points to Letter Grade(47 Lines)\n",
    "\n",
    "In the previous exercise you created a program that converts a letter grade into the equivalent number of grade points. In this exercise you will create a program that reverses the process and converts from a grade point value entered by the user to a letter grade. Ensure that your program handles grade point values that fall between letter grades. These should be rounded to the closest letter grade. Your program should report A+ for a 4.0 (or greater) grade point average."
   ]
  },
  {
   "cell_type": "code",
   "execution_count": null,
   "metadata": {},
   "outputs": [],
   "source": []
  },
  {
   "cell_type": "markdown",
   "metadata": {},
   "source": [
    "Exercise 53: Assessing Employees(Solved—28 Lines)\n",
    "\n",
    "At a particular company, employees are rated at the end of each year. The rating scale begins at 0.0, with higher values indicating better performance and resulting in larger raises. The value awarded to an employee is either 0.0, 0.4, or 0.6 or more. Values between 0.0 and 0.4, and between 0.4 and 0.6 are never used. The meaning associated with each rating is shown in the following table. The amount of an employee’s raise is 2400.00 multiplied by their rating\n",
    "\n",
    "|Rating|Meaning|\n",
    "|------|-------|\n",
    "|0.0|Unacceptable performance|\n",
    "|0.4|Acceptable performance|\n",
    "|0.6 or more|Meritorious performance|\n",
    "\n",
    "Write a program that reads a rating from the user and indicates whether the performance was unacceptable, acceptable or meritorious. The amount of the employee’s\n",
    "raise should also be reported. Your program should display an appropriate error\n",
    "message if an invalid rating is entered."
   ]
  },
  {
   "cell_type": "code",
   "execution_count": null,
   "metadata": {},
   "outputs": [],
   "source": []
  },
  {
   "cell_type": "markdown",
   "metadata": {},
   "source": [
    "Exercise 54:Wavelengths of Visible Light (38 Lines)\n",
    "\n",
    "The wavelength of visible light ranges from 380 to 750 nanometers (nm). While the spectrum is continuous, it is often divided into 6 colors as shown below:\n",
    "\n",
    "|Color|Wavelength (nm)|\n",
    "|------|--------------|\n",
    "|Violet|380 to less than 450|\n",
    "|Blue|450 to less than 495|\n",
    "|Green|495 to less than 570|\n",
    "|Yellow|570 to less than 590|\n",
    "|Orange|590 to less than 620|\n",
    "|Red|620 to 750|\n",
    "\n",
    "Write a program that reads a wavelength from the user and reports its color. Display an appropriate error message if the wavelength entered by the user is outside of the visible spectrum."
   ]
  },
  {
   "cell_type": "code",
   "execution_count": null,
   "metadata": {},
   "outputs": [],
   "source": []
  },
  {
   "cell_type": "markdown",
   "metadata": {},
   "source": [
    "Exercise 55: Frequency to Name (31 Lines)\n",
    "\n",
    "Electromagnetic radiation can be classified into one of 7 categories according to its frequency, as shown in the table below:\n",
    "\n",
    "|Name|Frequency range (Hz)|\n",
    "|---------|---------------|\n",
    "|Radio Waves|Less than 3 x 10<sup>9</sup>|\n",
    "|Microwaves|3 x 10<sup>9</sup> to less than 3 x 10 <sup>12</sup>|\n",
    "|Infrared light|3 x 10<sup>12</sup> to less than 4.3 x 10<sup>14</sup> |\n",
    "|Visible light|4.3 x 10<sup>14</sup> to less than 7.5 x 10<sup>14</sup> |\n",
    "|Ultraviolet light| 7.5 x 10<sup>14</sup> to less than 3 x 10<sup>17</sup> |\n",
    "|X - rays| 3 x 10<sup>17</sup> to less than 3 x 10<sup>19</sup> |\n",
    "|Gamma rays | 3 x 10<sup>19</sup> or more|\n",
    "\n",
    "Write a program that reads the frequency of the radiation from the user and displays the appropriate name. "
   ]
  },
  {
   "cell_type": "code",
   "execution_count": null,
   "metadata": {},
   "outputs": [],
   "source": []
  },
  {
   "cell_type": "markdown",
   "metadata": {},
   "source": [
    "Exercise 56: Cell Phone Bill(44 Lines)\n",
    "\n",
    "A particular cell phone plan includes 50 minutes of air time and 50 text messages for 15.00 a month. Each additional minute of air time costs 0.25, while additional text messages cost 0.15 each. All cell phone bills include an additional charge of 0.44 to support 911 call centers, and the entire bill (including the 911 charge) is subject to 5 percent sales tax.\n",
    "\n",
    "Write a program that reads the number of minutes and text messages used in a month from the user. Display the base charge, additional minutes charge (if any), additional text message charge (if any), the 911 fee, tax and total bill amount. Only display the additional minute and text message charges if the user incurred costs in these categories. Ensure that all of the charges are displayed using 2 decimal places."
   ]
  },
  {
   "cell_type": "code",
   "execution_count": null,
   "metadata": {},
   "outputs": [],
   "source": []
  },
  {
   "cell_type": "markdown",
   "metadata": {},
   "source": [
    "Exercise 57: Is it a Leap Year?(Solved—22 Lines)\n",
    "\n",
    "Most years have 365 days. However, the time required for the Earth to orbit the Sun is actually slightly more than that. As a result, an extra day, February 29, is included in some years to correct for this difference. Such years are referred to as leap years. The rules for determining whether or not a year is a leap year follow: \n",
    "\n",
    "• Any year that is divisible by 400 is a leap year.\n",
    "\n",
    "• Of the remaining years, any year that is divisible by 100 is not a leap year.\n",
    "\n",
    "• Of the remaining years, any year that is divisible by 4 is a leap year.\n",
    "\n",
    "• All other years are not leap years.\n",
    "\n",
    "Write a program that reads a year from the user and displays a message indicating whether or not it is a leap year."
   ]
  },
  {
   "cell_type": "code",
   "execution_count": null,
   "metadata": {},
   "outputs": [],
   "source": []
  },
  {
   "cell_type": "markdown",
   "metadata": {},
   "source": [
    "Exercise 58: Next Day(50 Lines)\n",
    "\n",
    "Write a program that reads a date from the user and computes its immediate successor. For example, if the user enters values that represent 2013-11-18 then your program should display a message indicating that the day immediately after 2013-11-18 is 2013-11-19. If the user enters values that represent 2013-11-30 then the program should indicate that the next day is 2013-12-01. If the user enters values that represent 2013-12-31 then the program should indicate that the next day is 2014-01-01. The date will be entered in numeric form with three separate input statements; one for the year, one for the month, and one for the day. Ensure that your program works correctly for leap years."
   ]
  },
  {
   "cell_type": "code",
   "execution_count": null,
   "metadata": {},
   "outputs": [],
   "source": []
  },
  {
   "cell_type": "markdown",
   "metadata": {},
   "source": [
    "Exercise 59: Is a License Plate Valid?(Solved—28 Lines)\n",
    "\n",
    "In a particular jurisdiction, older license plates consist of three uppercase letters followed by three numbers. When all of the license plates following that pattern had Exercise 59: Is a License Plate Valid? 27 been used, the format was changed to four numbers followed by three uppercase letters. Write a program that begins by reading a string of characters from the user. Then your program should display a message indicating whether the characters are valid for an older style license plate or a newer style license plate. Your program should display an appropriate message if the string entered by the user is not valid for either style of license plate."
   ]
  },
  {
   "cell_type": "code",
   "execution_count": null,
   "metadata": {},
   "outputs": [],
   "source": []
  },
  {
   "cell_type": "markdown",
   "metadata": {},
   "source": [
    "Exercise 60: Roulette Payouts(Solved—45 Lines)\n",
    "\n",
    "A roulette wheel has 38 spaces on it. Of these spaces, 18 are black, 18 are red, and two are green. The green spaces are numbered 0 and 00. The red spaces are numbered 1, 3, 5, 7, 9, 12, 14, 16, 18, 19, 21, 23, 25, 27, 30 32, 34 and 36. The remaining integers between 1 and 36 are used to number the black spaces. \n",
    "\n",
    "Many different bets can be placed in roulette. We will only consider the following subset of them in this exercise:\n",
    "\n",
    "- Single number (1 to 36, 0, or 00)\n",
    "- Red versus Black\n",
    "- Odd versus Even (Note that 0 and 00 do not pay out for even)\n",
    "- 1 to 18 versus 19 to 36\n",
    "\n",
    "Write a program that simulates a spin of a roulette wheel by using Python’s random number generator. Display the number that was selected and all of the bets that must be payed. For example, if 13 is selected then your program should display:\n",
    "\n",
    "The spin resulted in 13...\n",
    "Pay 13\n",
    "Pay Black\n",
    "Pay Odd\n",
    "Pay 1 to 18\n",
    " \n",
    "If the simulation results in 0 or 00 then your program should display Pay 0 or Pay 00 without any further output."
   ]
  },
  {
   "cell_type": "code",
   "execution_count": null,
   "metadata": {},
   "outputs": [],
   "source": []
  }
 ],
 "metadata": {
  "kernelspec": {
   "display_name": "Python 3",
   "language": "python",
   "name": "python3"
  },
  "language_info": {
   "codemirror_mode": {
    "name": "ipython",
    "version": 3
   },
   "file_extension": ".py",
   "mimetype": "text/x-python",
   "name": "python",
   "nbconvert_exporter": "python",
   "pygments_lexer": "ipython3",
   "version": "3.7.6"
  }
 },
 "nbformat": 4,
 "nbformat_minor": 4
}
