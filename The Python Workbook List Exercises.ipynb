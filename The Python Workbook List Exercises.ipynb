{
 "cells": [
  {
   "cell_type": "markdown",
   "metadata": {},
   "source": [
    "Exercise 104: Sorted Order (Solved—21 Lines)\n",
    "\n",
    "Write a program that reads integers from the user and stores them in a list. Your program should continue reading values until the user enters 0. Then it should display all of the values entered by the user (except for the 0) in order from smallest to largest, with one value appearing on each line. Use either the sort method or the sorted function to sort the list."
   ]
  },
  {
   "cell_type": "code",
   "execution_count": null,
   "metadata": {},
   "outputs": [],
   "source": []
  },
  {
   "cell_type": "markdown",
   "metadata": {},
   "source": [
    "Exercise 105: Reverse Order (20 Lines)\n",
    "\n",
    "Write a program that reads integers from the user and stores them in a list. Use 0 as a sentinel value to mark the end of the input. Once all of the values have been read your program should display them (except for the 0) in reverse order, with one value appearing on each line."
   ]
  },
  {
   "cell_type": "code",
   "execution_count": null,
   "metadata": {},
   "outputs": [],
   "source": []
  },
  {
   "cell_type": "markdown",
   "metadata": {},
   "source": [
    "Exercise 106: Remove Outliers (Solved—43 Lines)\n",
    "\n",
    "When analysing data collected as part of a science experiment it may be desirable to remove the most extreme values before performing other calculations. Write a function that takes a list of values and an non-negative integer, n, as its parameters. The function should create a new copy of the list with the n largest elements and the n smallest elements removed. Then it should return the new copy of the list as the function’s only result. The order of the elements in the returned list does not have to\n",
    "match the order of the elements in the original list. Write a main program that demonstrates your function. Your function should read a list of numbers from the user and remove the two largest and two smallest values from it. Display the list with the outliers removed, followed by the original list. Your program should generate an appropriate error message if the user enters less than 4\n",
    "values"
   ]
  },
  {
   "cell_type": "code",
   "execution_count": null,
   "metadata": {},
   "outputs": [],
   "source": []
  },
  {
   "cell_type": "markdown",
   "metadata": {},
   "source": [
    "Exercise 107: Avoiding Duplicates (Solved—21 Lines)\n",
    "\n",
    "In this exercise, you will create a program that reads words from the user until the user enters a blank line. After the user enters a blank line your program should display each word entered by the user exactly once. The words should be displayed in the same order that they were entered. \n",
    "\n",
    "For example, if the user enters:\n",
    "\n",
    "first\n",
    "\n",
    "second\n",
    "\n",
    "first\n",
    "\n",
    "third\n",
    "\n",
    "second\n",
    "\n",
    "then your program should display:\n",
    "\n",
    "first\n",
    "\n",
    "second\n",
    "\n",
    "third"
   ]
  },
  {
   "cell_type": "code",
   "execution_count": null,
   "metadata": {},
   "outputs": [],
   "source": []
  },
  {
   "cell_type": "markdown",
   "metadata": {},
   "source": [
    "Exercise 108: Negatives, Zeros and Positives (Solved—38 Lines)\n",
    "\n",
    "Create a program that reads integers from the user until a blank line is entered. Once all of the integers have been read your program should display all of the negative numbers, followed by all of the zeros, followed by all of the positive numbers. Within each group the numbers should be displayed in the same order that they were entered by the user. For example, if the user enters the values 3, -4, 1, 0, -1, 0, and -2 then your program should output the values -4, -1, -2, 0, 0, 3, and 1. Your program\n",
    "should display each value on its own line"
   ]
  },
  {
   "cell_type": "code",
   "execution_count": null,
   "metadata": {},
   "outputs": [],
   "source": []
  },
  {
   "cell_type": "markdown",
   "metadata": {},
   "source": [
    "Exercise 109: List of Proper Divisors (36 Lines)\n",
    "\n",
    "A proper divisor of a positive integer, n, is a positive integer less than n which divides evenly into n. Write a function that computes all of the proper divisors of a positive integer. The integer will be passed to the function as its only parameter. The function will return a list containing all of the proper divisors as its only result. Complete this exercise by writing a main program that demonstrates the function by reading a value from the user and displaying the list of its proper divisors. Ensure that your main program only runs when your solution has not been imported into another file."
   ]
  },
  {
   "cell_type": "code",
   "execution_count": null,
   "metadata": {},
   "outputs": [],
   "source": []
  },
  {
   "cell_type": "markdown",
   "metadata": {},
   "source": [
    "Exercise 110: Perfect Numbers(Solved—35 Lines)\n",
    "\n",
    "An integer, n, is said to be perfect when the sum of all of the proper divisors of n is equal to n. For example, 28 is a perfect number because its proper divisors are 1, 2, 4, 7 and 14, and 1 + 2 + 4 + 7 + 14 = 28. Write a function that determines whether or not a positive integer is perfect. Yourfunction will take one parameter. If that parameter is a perfect number then your function will return true. Otherwise it will return false. In addition, write a main program that uses your function to identify and display all of the perfect numbers between 1 and 10,000. Import your solution to Exercise 109 when completing this task."
   ]
  },
  {
   "cell_type": "code",
   "execution_count": null,
   "metadata": {},
   "outputs": [],
   "source": []
  },
  {
   "cell_type": "markdown",
   "metadata": {},
   "source": [
    "Exercise 111: Only the Words (38 Lines)\n",
    "\n",
    "In this exercise you will create a program that identifies all of the words in a string entered by the user. Begin by writing a function that takes a string of text as its only parameter. Your function should return a list of the words in the string with the punctuation marks at the edges of the words removed. The punctuation marks that you must remove include commas, periods, question marks, hyphens, apostrophes, exclamation points, colons, and semicolons. Do not remove punctuation marks that appear in\n",
    "the middle of a words, such as the apostrophes used to form a contraction. For example, if your function is provided with the string \"Examples of contractions include: don’t, isn’t, and wouldn’t.\" then your function should return the list [\"Examples\", \"of\", \"contractions\", \"include\",\n",
    "\"don’t\", \"isn’t\", \"and\", \"wouldn’t\"].\n",
    "\n",
    "Write a main program that demonstrates your function. It should read a string from the user and display all of the words in the string with the punctuation marks removed. You will need to import your solution to this exercise when completing Exercise 158. As a result, you should ensure that your main program only runs when your file has not been imported into another program"
   ]
  },
  {
   "cell_type": "code",
   "execution_count": null,
   "metadata": {},
   "outputs": [],
   "source": []
  },
  {
   "cell_type": "markdown",
   "metadata": {},
   "source": [
    "Exercise 112: Below and Above Average (44 Lines)\n",
    "\n",
    "Write a program that reads numbers from the user until a blank line is entered. Your program should display the average of all of the values entered by the user. Then the program should display all of the below average values, followed by all of the average values (if any), followed by all of the above average values. An appropriate label should be displayed before each list of values."
   ]
  },
  {
   "cell_type": "code",
   "execution_count": null,
   "metadata": {},
   "outputs": [],
   "source": []
  },
  {
   "cell_type": "markdown",
   "metadata": {},
   "source": [
    "Exercise 113: Formatting a List (Solved—43 Lines)\n",
    "\n",
    "When writing out a list of items in English, one normally separates the items with commas. In addition, the word “and” is normally included before the last item, unless the list only contains one item. \n",
    "\n",
    "Consider the following four lists: \n",
    "\n",
    "apples\n",
    "\n",
    "apples and oranges\n",
    "\n",
    "apples, oranges and bananas\n",
    "\n",
    "apples, oranges, bananas and lemons\n",
    "\n",
    "Write a function that takes a list of strings as its only parameter. Your function should return a string that contains all of the items in the list formatted in the manner described previously as its only result. While the examples shown previously only include lists containing four elements or less, your function should behave correctly for lists of any length. Include a main program that reads several items from the user, formats them by calling your function, and then displays the result returned by the function."
   ]
  },
  {
   "cell_type": "code",
   "execution_count": null,
   "metadata": {},
   "outputs": [],
   "source": []
  },
  {
   "cell_type": "markdown",
   "metadata": {},
   "source": [
    "Exercise 114: Random Lottery Numbers (Solved—28 Lines)\n",
    "\n",
    "In order to win the top prize in a particular lottery, one must match all 6 numbers on his or her ticket to the 6 numbers between 1 and 49 that are drawn by the lottery organizer. Write a program that generates a random selection of 6 numbers for a lottery ticket. Ensure that the 6 numbers selected do not contain any duplicates. Display the numbers in ascending order."
   ]
  },
  {
   "cell_type": "code",
   "execution_count": null,
   "metadata": {},
   "outputs": [],
   "source": []
  },
  {
   "cell_type": "markdown",
   "metadata": {},
   "source": [
    "Exercise 115: Pig Latin (32 Lines)\n",
    "\n",
    "Pig Latin is a language constructed by transforming English words. While the origins of the language are unknown, it is mentioned in at least two documents from the nineteenth century, suggesting that it has existed for more than 100 years. The following rules are used to translate English into Pig Latin:\n",
    "\n",
    "• If the word begins with a consonant (including y), then all letters at the beginning of the word, up to the first vowel (excluding y), are removed and then added to the end of the word, followed by ay. For example, computer becomes omputercay and think becomes inkthay.\n",
    "\n",
    "• If the word begins with a vowel (not including y), then way is added to the end\n",
    "of the word. For example, algorithm becomes algorithmway and office\n",
    "becomes officeway.\n",
    "\n",
    "Write a program that reads a line of text from the user. Then your program should\n",
    "translate the line into Pig Latin and display the result. You may assume that the string\n",
    "entered by the user only contains lowercase letters and spaces."
   ]
  },
  {
   "cell_type": "code",
   "execution_count": null,
   "metadata": {},
   "outputs": [],
   "source": []
  },
  {
   "cell_type": "markdown",
   "metadata": {},
   "source": [
    "Exercise 116: Pig Latin Improved (51 Lines)\n",
    "\n",
    "Extend your solution to Exercise 115 so that it correctly handles uppercase letters and punctuation marks such as commas, periods, question marks and exclamation marks. If an English word begins with an uppercase letter then its Pig Latin representation should also begin with an uppercase letter and the uppercase letter moved to the end of the word should be changed to lowercase. For example, Computer should become Omputercay. If a word ends in a punctuation mark then the punctuation mark should remain at the end of the word after the transformation has been performed. For example, Science! should become Iencescay!."
   ]
  },
  {
   "cell_type": "code",
   "execution_count": null,
   "metadata": {},
   "outputs": [],
   "source": []
  },
  {
   "attachments": {
    "image.png": {
     "image/png": "[encoded data removed]"
    }
   },
   "cell_type": "markdown",
   "metadata": {},
   "source": [
    "Exercise 117: Line of Best Fit\n",
    "(41 Lines)\n",
    "A line of best fit is a straight line that best approximates a collection of n data points.\n",
    "In this exercise, we will assume that each point in the collection has an x coordinate\n",
    "and a y coordinate. The symbols x¯ and y¯ are used to represent the average x value in\n",
    "54 5 List Exercises\n",
    "the collection and the average y value in the collection respectively. The line of best\n",
    "fit is represented by the equation y = mx + b where m and b are calculated using\n",
    "the following formulas:\n",
    "\n",
    "![image.png](attachment:image.png)\n",
    "\n",
    "Write a program that reads a collection of points from the user. The user will enter the x part of the first coordinate on its own line, followed by the y part of the first coordinate on its own line. Allow the user to continue entering coordinates, with the x and y parts each entered on their own line, until your program reads a blank line for the x coordinate. Display the formula for the line of best fit in the form y = mx + b by replacing m and b with the values you calculated using the preceding formulas.\n",
    "For example, if the user inputs the coordinates (1, 1), (2, 2.1) and (3, 2.9) then your program should display y = 0.95x + 0.1."
   ]
  },
  {
   "cell_type": "code",
   "execution_count": null,
   "metadata": {},
   "outputs": [],
   "source": []
  },
  {
   "cell_type": "markdown",
   "metadata": {},
   "source": [
    "Exercise 118: Shuffling a Deck of Cards (Solved—48 Lines)\n",
    "\n",
    "A standard deck of playing cards contains 52 cards. Each card has one of four suits along with a value. The suits are normally spades, hearts, diamonds and clubs while the values are 2 through 10, Jack, Queen, King and Ace. Each playing card can be represented using two characters. The first character is\n",
    "the value of the card, with the values 2 through 9 being represented directly. The characters “T”, “J”, “Q”, “K” and “A” are used to represent the values 10, Jack, Queen, King and Ace respectively. The second character is used to represent the suit of the card. It is normally a lowercase letter: “s” for spades, “h” for hearts, “d” for diamonds and “c” for clubs. The following table provides several examples of cards and their two-character representations.\n",
    "\n",
    "|Card|Abbreviation|\n",
    "|-----|-----------|\n",
    "|Jack of spades| Js|\n",
    "|Two of clubs|2c|\n",
    "|Ten of diamonds|Td|\n",
    "|Ace of hearts|Ah|\n",
    "|Nine of Spades|9s|\n",
    "\n",
    "Begin by writing a function named createDeck. It will use loops to create a complete deck of cards by storing the two-character abbreviations for all 52 cards into a list. Return the list of cards as the function’s only result. Your function will not take any parameters.\n",
    "\n",
    "Write a second function named shuffle that randomizes the order of the cards in a list. One technique that can be used to shuffle the cards is to visit each element in the list and swap it with another random element in the list. You must write your own loop for shuffling the cards. You cannot make use of Python’s built-in shuffle function. Use both of the functions described in the previous paragraphs to create a main program that displays a deck of cards before and after it has been shuffled. Ensure\n",
    "that your main program only runs when your functions have not been imported into another file."
   ]
  },
  {
   "cell_type": "code",
   "execution_count": null,
   "metadata": {},
   "outputs": [],
   "source": []
  },
  {
   "cell_type": "markdown",
   "metadata": {},
   "source": [
    "Exercise 119: Dealing Hands of Cards (44 Lines)\n",
    "\n",
    "In many card games each player is dealt a specific number of cards after the deck has been shuffled. Write a function, deal, which takes the number of hands, the number of cards per hand, and a deck of cards as its three parameters. Your function should return a list containing all of the hands that were dealt. Each hand will be represented as a list of cards. When dealing the hands, your function should modify the deck of cards passed to it as a parameter, removing each card from the deck as it is added to a player’s hand. When cards are dealt, it is customary to give each player a card before any\n",
    "player receives an additional card. Your function should follow this custom when constructing the hands for the players. Use your solution to Exercise 118 to help you construct a main program that creates and shuffles a deck of cards, and then deals out four hands of five cards each. Display all of the hands of cards, along with the cards remaining in the deck after the hands have been dealt."
   ]
  },
  {
   "cell_type": "code",
   "execution_count": null,
   "metadata": {},
   "outputs": [],
   "source": []
  },
  {
   "cell_type": "markdown",
   "metadata": {},
   "source": [
    "Exercise 120: Is a List already in Sorted Order? (41 Lines)\n",
    "\n",
    "Write a function that determines whether or not a list of values is in sorted order (either ascending or descending). The function should return True if the list is already sorted. Otherwise it should return False. Write a main program that reads a list of numbers from the user and then uses your function to report whether or not the list is sorted.Make sure you consider these questions when completing this exercise: Is a list that is empty in sorted order? What about a list containing one element?"
   ]
  },
  {
   "cell_type": "code",
   "execution_count": null,
   "metadata": {},
   "outputs": [],
   "source": []
  },
  {
   "cell_type": "markdown",
   "metadata": {},
   "source": [
    "Exercise 121: Count the Elements (Solved—49 Lines)\n",
    "\n",
    "Python’s standard library includes a method named count that determines how many times a specific value occurs in a list. In this exercise, you will create a new function named countRange which determines and returns the number of elements within a list that are greater than or equal to some minimum value and less than some maximum value. Your function will take three parameters: the list, the minimum\n",
    "value and the maximm value. It will return an integer result greater than or equal to 0. Include a main program that demonstrates your function for several different lists, minimum values and maximum values. Ensure that your program works correctly for both lists of integers and lists of floating point numbers."
   ]
  },
  {
   "cell_type": "code",
   "execution_count": null,
   "metadata": {},
   "outputs": [],
   "source": []
  },
  {
   "cell_type": "markdown",
   "metadata": {},
   "source": [
    "Exercise 122: Tokenizing a String (Solved—64 Lines)\n",
    "\n",
    "Tokenizing is the process of converting a string into a list of substrings, known as tokens. In many circumstances, a list of tokens is far easier to work with than the original string because the original string may have irregular spacing. In some cases substantial work is also required to determine where one token ends and the next one begins.\n",
    "\n",
    "In a mathematical expression, tokens are items such as operators, numbers and parentheses. Some tokens, such as *, /, ˆ, ( and ) are easy to identify because the token is a single character, and the character is never part of another token. The + and - symbols are a little bit more challenging to handle because they might represent the addition or subtraction operator, or they might be part of a number token.\n",
    "\n",
    "Hint: A + or - is an operator if the non-whitespace character immediately before it is part of a number, or if the non-whitespace character immediately before it is a close parenthesis. Otherwise it is part of a number.\n",
    "\n",
    "Write a function that takes a string containing a mathematical expression as itsonly parameter and breaks it into a list of tokens. Each token should be a parenthesis, an operator, or a number with an optional leading + or - (for simplicity we will only work with integers in this problem). Return the list of tokens as the function’s result.\n",
    "\n",
    "You may assume that the string passed to your function always contains a valid mathematical expression consisting of parentheses, operators and integers. However, your function must handle variable amounts of whitespace between these elements. Include a main program that demonstrates your tokenizing function by reading an expression from the user and printing the list of tokens. Ensure that the main program will not run when the file containing your solution is imported into another program."
   ]
  },
  {
   "cell_type": "code",
   "execution_count": null,
   "metadata": {},
   "outputs": [],
   "source": []
  },
  {
   "cell_type": "markdown",
   "metadata": {},
   "source": [
    "Exercise 123: Infix to Postfix (62 Lines)\n",
    "\n",
    "Mathematical expressions are often written in infix form, where operators appear between the operands on which they act. While this is a common form, it is also possible to express mathematical expressions in postfix form, where the operator appears after both operands. For example, the infix expression 3+4 is written as 34+ in postfix form. One can convert an infix expression to postfix form using the following algorithm:\n",
    "\n",
    "Create a new empty list, operators\n",
    "Create a new empty list, postfix\n",
    "\n",
    "```\n",
    "For each token in the infix expression\n",
    "   If the token is an integer then   \n",
    "      Add the token to the end of postfix      \n",
    "   If the token is an operator then   \n",
    "      While operators is not empty and      \n",
    "            the last item in operators is not an open parenthesis and            \n",
    "            precedence(token) < precedence(last item in operators) do            \n",
    "         Remove the last item from operators and add it to postfix         \n",
    "        Add token to the end of operators        \n",
    "   If the token is an open parenthesis then   \n",
    "      Add token to the end of operators      \n",
    "   If the token is a close parenthesis then   \n",
    "      While the last item in operators is not an open parenthesis do      \n",
    "        Remove the last item from operators and add it to postfix        \n",
    "      Remove the open parenthesis from operators      \n",
    " While operators is not the empty list do \n",
    "   Remove the last item from operators and add it to postfix   \n",
    " Return postfix as the result of the algorithm\n",
    "```\n",
    "\n",
    "Use your solution to Exercise 122 to tokenize a mathematical expression. Then use the algorithm above to transform the expression from infix form to postfix form. Your code that implements the preceding algorithm should reside in a function that takes a list of tokens representing an infix expression as its only parameter. It should return a list of tokens representing the equivalent postfix expression as its only result. Include a main program that demonstrates your infix to postfix function by reading\n",
    "an expression from the user in infix form and displaying it in postfix form. The purpose of converting from infix form to postfix form will become apparent when you read Exercise 124. You may find your solutions to Exercises 90 and 91 helpful when completing this problem. The algorithms provided in Exercises 123 and 124 do not perform any error checking. As a result, you may crash your program or receive incorrect results if you provide them with invalid input. These algorithms can be extended to\n",
    "detect invalid input and respond to it in a reasonable manner. Doing so is left as an independent study exercise for the interested student."
   ]
  },
  {
   "cell_type": "code",
   "execution_count": null,
   "metadata": {},
   "outputs": [],
   "source": []
  },
  {
   "cell_type": "markdown",
   "metadata": {},
   "source": [
    "Exercise 124: Evaluate Postfix (58 Lines)\n",
    "\n",
    "Evaluating a postfix expression is easier than evaluating an infix expression because it does not contain any brackets and there are no operator precedence rules to consider. A postfix expression can be evaluated using the following algorithm:\n",
    "```\n",
    "Create a new empty list, values\n",
    "\n",
    "For each token in the postfix expression\n",
    "  If the token is a number then\n",
    "      Convert it to an integer and add it to the end of values\n",
    "   Else\n",
    "       Remove an item from the end of values and call it right\n",
    "       Remove an item from the end of values and call it left\n",
    "       Apply the operator to left and right\n",
    "       Append the result to the end of values\n",
    "   Return the first item in values as the value of the expression\n",
    "```\n",
    "\n",
    "Write a program that reads a mathematical expression in infix form from the user, evaluates it, and displays its value. Uses your solutions to Exercises 122 and 123 along with the algorithm shown above to solve this problem."
   ]
  },
  {
   "cell_type": "code",
   "execution_count": null,
   "metadata": {},
   "outputs": [],
   "source": []
  },
  {
   "cell_type": "markdown",
   "metadata": {},
   "source": [
    "Exercise 125: Does a List contain a Sublist? (44 Lines)\n",
    "\n",
    "A sublist is a list that makes up part of a larger list. A sublist may be a list containing a single element, multiple elements, or even no elements at all. For example, [1], [2], [3] and [4] are all sublists of [1, 2, 3, 4]. The list [2, 3] is also a sublist of [1, 2, 3, 4], but [2, 4] is not a sublist [1, 2, 3, 4] because the elements 2 and 4 are not adjacent in the longer list. The empty list is a sublist of any list. As a result, [] is a sublist of [1, 2, 3, 4]. A list is a sublist of itself, meaning that [1, 2, 3, 4] is also a sublist of [1, 2, 3, 4]. In this exercise you will create a function, isSublist, that determines whether or not one list is a sublist of another. Your function should take two lists, larger and smaller, as its only parameters. It should return True if and only if smaller is a sublist of larger. Write a main program that demonstrates your function"
   ]
  },
  {
   "cell_type": "code",
   "execution_count": null,
   "metadata": {},
   "outputs": [],
   "source": []
  },
  {
   "cell_type": "markdown",
   "metadata": {},
   "source": [
    "Exercise 126: Generate All Sublists of a List (Solved—40 Lines)\n",
    "\n",
    "Using the definition of a sublist from Exercise 125, write a function that returns a list containing every possible sublist of a list. For example, the sublists of [1, 2, 3] are [], [1], [2], [3], [1, 2], [2, 3] and [1, 2, 3]. Note that your function will always return a list containing at least the empty list because the empty list is a sublist of every list. Include a main program that demonstrate your function by displaying all of the sublists of several different lists."
   ]
  },
  {
   "cell_type": "code",
   "execution_count": null,
   "metadata": {},
   "outputs": [],
   "source": []
  },
  {
   "cell_type": "markdown",
   "metadata": {},
   "source": [
    "Exercise 127: The Sieve of Eratosthenes (Solved—33 Lines)\n",
    "\n",
    "The Sieve of Eratosthenes is a technique that was developed more than 2,000 years ago to easily find all of the prime numbers between 2 and some limit, say 100. A description of the algorithm follows:\n",
    "\n",
    "```\n",
    "Write down all of the numbers from 0 to the limit \n",
    "Cross out 0 and 1 because they are not prime\n",
    "\n",
    "Set p equal to 2 \n",
    "While p is less than the limit do \n",
    "   Cross out all multiples of p (but not p itself)\n",
    "   Set p equal to the next number in the list that is not crossed out \n",
    "   \n",
    "Report all of the numbers that have not been crossed out as prime \n",
    "```\n",
    "\n",
    "The key to this algorithm is that it is relatively easy to cross out every nth number on a piece of paper. This is also an easy task for a computer—a for loop can simulate\n",
    "this behavior when a third parameter is provided to the range function. When a number is crossed out, we know that it is no longer prime, but it still occupies space on the piece of paper, and must still be considered when computing later prime numbers. As a result, you should not simulate crossing out a number by removing it from the list. Instead, you should simulate crossing out a number by replacing it with 0. Then, once the algorithm completes, all of the non-zero values in the list are prime.\n",
    "Create a Python program that uses this algorithm to display all of the prime numbers between 2 and a limit entered by the user. If you implement the algorithm correctly you should be able to display all of the prime numbers less than 1,000,000 in a few seconds. This algorithm for finding prime numbers is not Eratosthenes’ only claim to fame. His other noteworthy accomplishments include calculating the circumference of the Earth and the tilt of the Earth’s axis. He also served as the Chief Librarian at the Library of Alexandria."
   ]
  },
  {
   "cell_type": "code",
   "execution_count": null,
   "metadata": {},
   "outputs": [],
   "source": []
  }
 ],
 "metadata": {
  "kernelspec": {
   "display_name": "Python 3",
   "language": "python",
   "name": "python3"
  },
  "language_info": {
   "codemirror_mode": {
    "name": "ipython",
    "version": 3
   },
   "file_extension": ".py",
   "mimetype": "text/x-python",
   "name": "python",
   "nbconvert_exporter": "python",
   "pygments_lexer": "ipython3",
   "version": "3.7.6"
  }
 },
 "nbformat": 4,
 "nbformat_minor": 4
}
